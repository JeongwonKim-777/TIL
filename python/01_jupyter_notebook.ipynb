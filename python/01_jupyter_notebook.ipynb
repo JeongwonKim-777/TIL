{
 "cells": [
  {
   "cell_type": "markdown",
   "metadata": {},
   "source": [
    "### Jupyter Notebook\n",
    "- mode\n",
    " - 명령모드(esc) : 셀을 수정할 때 사용\n",
    " - 편집모드(enter) : 셀 안의 내용을 수정할 때 사용\n",
    "- style\n",
    " - markdown(명령모드 + m) : 셀 안에 설명을 작성할 때 작성\n",
    " - code(명령모드 + y) : python 코드를 작성할 때 사용\n",
    "\n",
    "- 단축키\n",
    " - 셀 실행 : shift + enter\n",
    " - 셀 삭제 : (명령모드) x\n",
    " - 되돌리기 : (명령모드) z\n",
    " - 셀 생성 : a(above), b(beneath)\n"
   ]
  },
  {
   "cell_type": "code",
   "execution_count": 1,
   "metadata": {},
   "outputs": [
    {
     "data": {
      "text/plain": [
       "3"
      ]
     },
     "execution_count": 1,
     "metadata": {},
     "output_type": "execute_result"
    }
   ],
   "source": [
    "1 + 2"
   ]
  },
  {
   "cell_type": "markdown",
   "metadata": {},
   "source": [
    "### Magic Command\n",
    "- 셀 내부에서 특별하게 동작하는 커맨드\n",
    "- % : 한 줄의 magic command를 동작\n",
    "- %% : 셀 단위의 magic command를 동작\n",
    "- 주요 magic command\n",
    " - %pwd : 현재 디렉토리의 위치\n",
    " - %ls : 현재 디렉토리의 파일 리스트\n",
    " - %whos : 현재 선언된 변수를 출력"
   ]
  },
  {
   "cell_type": "markdown",
   "metadata": {},
   "source": [
    "### Shell Command\n",
    "- jupyter notebook을 실행할 환경의 명령을 사용\n",
    "- 주요 command(사용방법: 명령어 앞에 !를 붙여서 사용)\n",
    " - ls, cat, echo,..etc"
   ]
  }
 ],
 "metadata": {
  "kernelspec": {
   "display_name": "Python 3",
   "language": "python",
   "name": "python3"
  },
  "language_info": {
   "codemirror_mode": {
    "name": "ipython",
    "version": 3
   },
   "file_extension": ".py",
   "mimetype": "text/x-python",
   "name": "python",
   "nbconvert_exporter": "python",
   "pygments_lexer": "ipython3",
   "version": "3.7.4"
  }
 },
 "nbformat": 4,
 "nbformat_minor": 2
}
